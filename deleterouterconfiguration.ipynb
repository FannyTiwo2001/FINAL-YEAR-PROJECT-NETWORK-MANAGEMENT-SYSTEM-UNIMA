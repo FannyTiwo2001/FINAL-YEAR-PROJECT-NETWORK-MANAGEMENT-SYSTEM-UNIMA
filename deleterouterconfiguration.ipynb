{
 "cells": [
  {
   "cell_type": "code",
   "execution_count": 1,
   "id": "04d8f2da",
   "metadata": {},
   "outputs": [
    {
     "name": "stderr",
     "output_type": "stream",
     "text": [
      "C:\\Users\\Fanny Tiwonge Jere\\anaconda3\\lib\\site-packages\\paramiko\\transport.py:219: CryptographyDeprecationWarning: Blowfish has been deprecated\n",
      "  \"class\": algorithms.Blowfish,\n"
     ]
    }
   ],
   "source": [
    "import paramiko\n",
    "\n",
    "class RouterConfigDeleter:\n",
    "    def __init__(self, hostname, username, password):\n",
    "        self.hostname = hostname\n",
    "        self.username = username\n",
    "        self.password = password\n",
    "        self.client = None\n",
    "\n",
    "    def connect(self):\n",
    "        self.client = paramiko.SSHClient()\n",
    "        self.client.set_missing_host_key_policy(paramiko.AutoAddPolicy())\n",
    "        self.client.connect(self.hostname, username=self.username, password=self.password)\n",
    "\n",
    "    def disconnect(self):\n",
    "        if self.client is not None:\n",
    "            self.client.close()\n",
    "            self.client = None\n",
    "\n",
    "    def delete_configuration(self):\n",
    "        commands = [\n",
    "            'enable',\n",
    "            'configure terminal',\n",
    "            'write erase',\n",
    "            'confirm',\n",
    "            'reload'\n",
    "        ]\n",
    "\n",
    "        if self.client is None:\n",
    "            raise Exception('SSH connection not established')\n",
    "\n",
    "        for command in commands:\n",
    "            stdin, stdout, stderr = self.client.exec_command(command)\n",
    "            output = stdout.read().decode('utf-8')\n",
    "            print(output)\n",
    "\n",
    "        self.disconnect()\n"
   ]
  },
  {
   "cell_type": "code",
   "execution_count": null,
   "id": "202adfca",
   "metadata": {},
   "outputs": [],
   "source": []
  },
  {
   "cell_type": "code",
   "execution_count": null,
   "id": "084e9074",
   "metadata": {},
   "outputs": [],
   "source": []
  },
  {
   "cell_type": "code",
   "execution_count": null,
   "id": "6f4954b9",
   "metadata": {},
   "outputs": [],
   "source": []
  },
  {
   "cell_type": "code",
   "execution_count": null,
   "id": "2b92975b",
   "metadata": {},
   "outputs": [],
   "source": []
  }
 ],
 "metadata": {
  "kernelspec": {
   "display_name": "Python 3 (ipykernel)",
   "language": "python",
   "name": "python3"
  },
  "language_info": {
   "codemirror_mode": {
    "name": "ipython",
    "version": 3
   },
   "file_extension": ".py",
   "mimetype": "text/x-python",
   "name": "python",
   "nbconvert_exporter": "python",
   "pygments_lexer": "ipython3",
   "version": "3.10.9"
  }
 },
 "nbformat": 4,
 "nbformat_minor": 5
}
