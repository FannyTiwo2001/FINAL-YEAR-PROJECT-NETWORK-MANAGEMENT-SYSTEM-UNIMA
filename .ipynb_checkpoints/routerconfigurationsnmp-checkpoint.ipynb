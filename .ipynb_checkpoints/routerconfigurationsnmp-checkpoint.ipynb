{
 "cells": [
  {
   "cell_type": "code",
   "execution_count": null,
   "id": "26b382c4",
   "metadata": {},
   "outputs": [],
   "source": [
    "from pysnmp.hlapi import *\n",
    "\n",
    "class RouterConfigurator:\n",
    "    def __init__(self, hostname, community, port=161):\n",
    "        self.hostname = hostname\n",
    "        self.community = community\n",
    "        self.port = port\n",
    "\n",
    "    def set_snmp_value(self, oid, value):\n",
    "        # Create SNMP object\n",
    "        snmp_object = ObjectIdentity(oid)\n",
    "\n",
    "        # Create SNMP set request\n",
    "        set_request = setCmd(SnmpEngine(),\n",
    "                             CommunityData(self.community),\n",
    "                             UdpTransportTarget((self.hostname, self.port)),\n",
    "                             ContextData(),\n",
    "                             ObjectType(snmp_object, OctetString(value)))\n",
    "\n",
    "        # Send SNMP set request and process response\n",
    "        error_indication, error_status, error_index, var_binds = next(set_request)\n",
    "\n",
    "        # Check for errors\n",
    "        if error_indication:\n",
    "            print('SNMP set request failed: %s' % error_indication)\n",
    "        elif error_status:\n",
    "            print('SNMP set request failed: %s at %s' % (error_status.prettyPrint(),\n",
    "                                                         error_index and var_binds[int(error_index) - 1][0] or '?'))\n",
    "        else:\n",
    "            # Print the new value\n",
    "            for var_bind in var_binds:\n",
    "                print('New value set successfully: %s = %s' % (var_bind[0], var_bind[1]))\n"
   ]
  }
 ],
 "metadata": {
  "kernelspec": {
   "display_name": "Python 3 (ipykernel)",
   "language": "python",
   "name": "python3"
  },
  "language_info": {
   "codemirror_mode": {
    "name": "ipython",
    "version": 3
   },
   "file_extension": ".py",
   "mimetype": "text/x-python",
   "name": "python",
   "nbconvert_exporter": "python",
   "pygments_lexer": "ipython3",
   "version": "3.10.9"
  }
 },
 "nbformat": 4,
 "nbformat_minor": 5
}
